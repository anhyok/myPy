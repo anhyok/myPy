{
 "cells": [
  {
   "attachments": {},
   "cell_type": "markdown",
   "metadata": {},
   "source": [
    "## String slice\n",
    "\n",
    "pin1 = \"881120-1068234\"\n",
    "\n",
    "pin2 = \"101120-4068234\"\n",
    "\n",
    "- Q1 birthday: e.g. 19881120\n",
    "\n",
    "> yyyymmdd = \n",
    "\n",
    "- Q2 id_num: e.g. 1068234\n",
    "\n",
    "> num = \n",
    "\n",
    "- Q3 gender: 1 or 2 or 3 or 4\n",
    "\n",
    "> gender = \n",
    "---\n",
    ">print(yyyymmdd)\n",
    "\n",
    ">print(num)\n",
    "\n",
    ">print(gender)"
   ]
  },
  {
   "cell_type": "code",
   "execution_count": 12,
   "metadata": {},
   "outputs": [
    {
     "name": "stdout",
     "output_type": "stream",
     "text": [
      "Birthday:  19881120\n",
      "ID number:  1068234\n",
      "Gender:  남자\n",
      "Birthday:  20101120\n",
      "ID number:  4068234\n",
      "Gender:  여자\n"
     ]
    }
   ],
   "source": [
    "def info(pin):\n",
    "    yyyymmdd = pin[:6]# Q1? 19881120\n",
    "    num = pin[7:]# Q2? 1068234\n",
    "    gender_num = pin[7]\n",
    "\n",
    "    if gender_num == \"1\" or gender_num == \"3\":\n",
    "        gender = \"남자\"\n",
    "    else:\n",
    "        gender = \"여자\"\n",
    "\n",
    "    pre = \"\"\n",
    "    if gender_num == \"3\" or gender_num ==\"4\":\n",
    "        pre = \"20\"\n",
    "    else:\n",
    "        pre = \"19\"\n",
    "\n",
    "    print(\"Birthday: \", pre + yyyymmdd)\n",
    "    print(\"ID number: \", num)\n",
    "    print(\"Gender: \", gender)\n",
    "\n",
    "\n",
    "info(\"881120-1068234\")\n",
    "info(\"101120-4068234\")"
   ]
  },
  {
   "attachments": {},
   "cell_type": "markdown",
   "metadata": {},
   "source": [
    "- Q4: String - replace()\n",
    "\n",
    "> a = \"a:b:c:d\"\n",
    "\n",
    "> b = \n",
    "\n",
    "> print(b)\n",
    "\n",
    "\"a#b#c#d\""
   ]
  },
  {
   "cell_type": "code",
   "execution_count": 2,
   "metadata": {},
   "outputs": [
    {
     "name": "stdout",
     "output_type": "stream",
     "text": [
      "a#b#c#d\n"
     ]
    }
   ],
   "source": [
    "a = \"a:b:c:d\"\n",
    "b = a.replace(\":\", \"#\")\n",
    "print(b)"
   ]
  },
  {
   "attachments": {},
   "cell_type": "markdown",
   "metadata": {},
   "source": [
    "- Q5: List - sort()\n",
    "\n",
    "> c = [1,3,5,4,2]\n",
    "\n",
    "> ...\n",
    "\n",
    "> ...\n",
    "\n",
    "> print(c)\n",
    "\n",
    "\n",
    "[5, 4, 3, 2, 1]"
   ]
  },
  {
   "cell_type": "code",
   "execution_count": 3,
   "metadata": {},
   "outputs": [
    {
     "name": "stdout",
     "output_type": "stream",
     "text": [
      "[5, 4, 3, 2, 1]\n"
     ]
    }
   ],
   "source": [
    "c = [1,3,5,4,2]\n",
    "c.sort()\n",
    "c.reverse()\n",
    "print(c)"
   ]
  },
  {
   "attachments": {},
   "cell_type": "markdown",
   "metadata": {},
   "source": [
    "- Q6: List - join()\n",
    "\n",
    "e = ['Life', 'is', 'too', 'short']\n",
    "\n",
    "f =\n",
    "\n",
    "print(f)\n",
    "\n",
    "\"Life is too short\""
   ]
  },
  {
   "cell_type": "code",
   "execution_count": 4,
   "metadata": {},
   "outputs": [
    {
     "name": "stdout",
     "output_type": "stream",
     "text": [
      "Life is too short\n"
     ]
    }
   ],
   "source": [
    "e = ['Life', 'is', 'too', 'short']\n",
    "print(' '.join(e))"
   ]
  },
  {
   "attachments": {},
   "cell_type": "markdown",
   "metadata": {},
   "source": [
    "- Q7 Tuple: (1, 2, 3)에 4추가\n",
    "\n",
    "> g = (1, 2, 3)\n",
    "\n",
    "> g_new =  \n",
    "\n",
    "> print(g_new)\n",
    "\n",
    "(1, 2, 3, 4)"
   ]
  },
  {
   "cell_type": "code",
   "execution_count": 5,
   "metadata": {},
   "outputs": [
    {
     "name": "stdout",
     "output_type": "stream",
     "text": [
      "(1, 2, 3, 4)\n"
     ]
    }
   ],
   "source": [
    "g = (1, 2, 3)\n",
    "g_new = g + (4,)\n",
    "\n",
    "print(g_new)"
   ]
  },
  {
   "attachments": {},
   "cell_type": "markdown",
   "metadata": {},
   "source": [
    "- Q8 Set: 중복제거\n",
    "\n",
    "> h = [1, 1, 1, 2, 2, 3, 3, 3, 4, 4, 5]\n",
    "\n",
    "> hset =\n",
    "\n",
    "> print(hset)\n",
    "\n",
    "{1, 2, 3, 4, 5}"
   ]
  },
  {
   "cell_type": "code",
   "execution_count": 6,
   "metadata": {},
   "outputs": [
    {
     "name": "stdout",
     "output_type": "stream",
     "text": [
      "{1, 2, 3, 4, 5}\n"
     ]
    }
   ],
   "source": [
    "h = [1, 1, 1, 2, 2, 3, 3, 3, 4, 4, 5]\n",
    "hset = set(h)\n",
    "print(hset)"
   ]
  },
  {
   "attachments": {},
   "cell_type": "markdown",
   "metadata": {},
   "source": [
    "- Q9: for를 이용, 1부터 100까지 출력"
   ]
  },
  {
   "cell_type": "code",
   "execution_count": 7,
   "metadata": {},
   "outputs": [
    {
     "name": "stdout",
     "output_type": "stream",
     "text": [
      "0\n",
      "1\n",
      "2\n",
      "3\n",
      "4\n",
      "5\n",
      "6\n",
      "7\n",
      "8\n",
      "9\n",
      "10\n",
      "11\n",
      "12\n",
      "13\n",
      "14\n",
      "15\n",
      "16\n",
      "17\n",
      "18\n",
      "19\n",
      "20\n",
      "21\n",
      "22\n",
      "23\n",
      "24\n",
      "25\n",
      "26\n",
      "27\n",
      "28\n",
      "29\n",
      "30\n",
      "31\n",
      "32\n",
      "33\n",
      "34\n",
      "35\n",
      "36\n",
      "37\n",
      "38\n",
      "39\n",
      "40\n",
      "41\n",
      "42\n",
      "43\n",
      "44\n",
      "45\n",
      "46\n",
      "47\n",
      "48\n",
      "49\n",
      "50\n",
      "51\n",
      "52\n",
      "53\n",
      "54\n",
      "55\n",
      "56\n",
      "57\n",
      "58\n",
      "59\n",
      "60\n",
      "61\n",
      "62\n",
      "63\n",
      "64\n",
      "65\n",
      "66\n",
      "67\n",
      "68\n",
      "69\n",
      "70\n",
      "71\n",
      "72\n",
      "73\n",
      "74\n",
      "75\n",
      "76\n",
      "77\n",
      "78\n",
      "79\n",
      "80\n",
      "81\n",
      "82\n",
      "83\n",
      "84\n",
      "85\n",
      "86\n",
      "87\n",
      "88\n",
      "89\n",
      "90\n",
      "91\n",
      "92\n",
      "93\n",
      "94\n",
      "95\n",
      "96\n",
      "97\n",
      "98\n",
      "99\n",
      "100\n"
     ]
    }
   ],
   "source": [
    "for i in range(101):\n",
    "    print(i)"
   ]
  },
  {
   "attachments": {},
   "cell_type": "markdown",
   "metadata": {},
   "source": [
    "- Q10: 1부터 1000까지 자연수의 합"
   ]
  },
  {
   "cell_type": "code",
   "execution_count": 8,
   "metadata": {},
   "outputs": [
    {
     "name": "stdout",
     "output_type": "stream",
     "text": [
      "500500\n"
     ]
    }
   ],
   "source": [
    "s = 0\n",
    "for x in range(1, 1001):\n",
    "    s = s + x\n",
    "\n",
    "print(s)"
   ]
  },
  {
   "attachments": {},
   "cell_type": "markdown",
   "metadata": {},
   "source": [
    "- Q11: 1부터 1000까지 자연수 중 3의 배수 합"
   ]
  },
  {
   "cell_type": "code",
   "execution_count": 9,
   "metadata": {},
   "outputs": [
    {
     "name": "stdout",
     "output_type": "stream",
     "text": [
      "166833\n"
     ]
    }
   ],
   "source": [
    "s = 0\n",
    "for x in range(1, 1001):\n",
    "    if x % 3 == 0:\n",
    "        s = s + x\n",
    "\n",
    "print(s)"
   ]
  },
  {
   "attachments": {},
   "cell_type": "markdown",
   "metadata": {},
   "source": [
    "- Q12 학생 점수 목록(리스트) : 반평균을 구하라\n",
    "\n",
    "> scores = [70, 60 , 55, 75, 95, 90, 80, 80, 85, 100]\n",
    "\n",
    "> ...\n",
    "\n",
    "> average = "
   ]
  },
  {
   "cell_type": "code",
   "execution_count": 11,
   "metadata": {},
   "outputs": [
    {
     "name": "stdout",
     "output_type": "stream",
     "text": [
      "79.0\n"
     ]
    }
   ],
   "source": [
    "scores = [70, 60 , 55, 75, 95, 90, 80, 80, 85, 100]\n",
    "# s = 0\n",
    "# for x in scores:\n",
    "#     s = s + x\n",
    "\n",
    "s = sum(scores)\n",
    "cnt = len(scores)\n",
    "print(s/cnt)\n"
   ]
  }
 ],
 "metadata": {
  "kernelspec": {
   "display_name": "Python 3",
   "language": "python",
   "name": "python3"
  },
  "language_info": {
   "codemirror_mode": {
    "name": "ipython",
    "version": 3
   },
   "file_extension": ".py",
   "mimetype": "text/x-python",
   "name": "python",
   "nbconvert_exporter": "python",
   "pygments_lexer": "ipython3",
   "version": "3.11.2"
  },
  "orig_nbformat": 4
 },
 "nbformat": 4,
 "nbformat_minor": 2
}
